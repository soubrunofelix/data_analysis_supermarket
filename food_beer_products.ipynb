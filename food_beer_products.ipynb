{
 "cells": [
  {
   "cell_type": "markdown",
   "id": "366296e3",
   "metadata": {},
   "source": [
    "# Supermarket's behavior in the time of Covid-19\n",
    "## using data analysis "
   ]
  },
  {
   "cell_type": "markdown",
   "id": "a9195d6b",
   "metadata": {},
   "source": [
    "food_beer_products.csv"
   ]
  },
  {
   "cell_type": "markdown",
   "id": "5a112cb3",
   "metadata": {},
   "source": [
    "# Summary:"
   ]
  },
  {
   "cell_type": "markdown",
   "id": "06f317d7",
   "metadata": {},
   "source": [
    " - I worked with a database containing information on 63 million sales record"
   ]
  },
  {
   "cell_type": "markdown",
   "id": "2550cb52",
   "metadata": {},
   "source": [
    "- The analysis was done using the amount of sales from 2019 to 2021"
   ]
  },
  {
   "cell_type": "markdown",
   "id": "4579f5a9",
   "metadata": {},
   "source": [
    "- Looking at Food sales trend, Consumer and Prices behavior \n",
    "    over the following pandemic scenario:\n",
    "    \n",
    "    Before Covid-19\n",
    "    \n",
    "    During Covid-19\n",
    "    \n",
    "    After Vaccine"
   ]
  },
  {
   "cell_type": "markdown",
   "id": "418f0167",
   "metadata": {},
   "source": [
    "Family Products analysed\n",
    "\n",
    "- BEAN\n",
    "- BEER\n",
    "- CANDY\n",
    "- CHICKEN_MEAT\n",
    "- COFFE&TEA\n",
    "- COW_MEAT\n",
    "- FISH_MEAT\n",
    "- FRUIT\n",
    "- NATURAL\n",
    "- PIG_MEAT\n",
    "- RICE\n",
    "- SUGAR"
   ]
  },
  {
   "cell_type": "markdown",
   "id": "a2ff9243",
   "metadata": {},
   "source": [
    "LIBRARIES USED"
   ]
  },
  {
   "cell_type": "code",
   "execution_count": null,
   "id": "a7de9289",
   "metadata": {},
   "outputs": [],
   "source": [
    "import pandas as pd\n",
    "import numpy as np\n",
    "import seaborn as sns\n",
    "import matplotlib.pyplot as plt\n",
    "%matplotlib inline"
   ]
  },
  {
   "cell_type": "markdown",
   "id": "bd6a8cc3",
   "metadata": {},
   "source": [
    "## FOOD & BEER DATAFRAME"
   ]
  },
  {
   "cell_type": "code",
   "execution_count": null,
   "id": "49ee82bf",
   "metadata": {},
   "outputs": [],
   "source": [
    "df_food_beer = pd.read_csv('food_beer_products.csv', sep=';', header=None,\n",
    "           names=['Product', 'Qty', 'Pack Price','Total Price','Package','Name','Date'])"
   ]
  },
  {
   "cell_type": "code",
   "execution_count": null,
   "id": "1d8d6809",
   "metadata": {},
   "outputs": [],
   "source": [
    "def limpar_area(row):\n",
    "    #try:\n",
    "        row = row.strip()\n",
    "        return row"
   ]
  },
  {
   "cell_type": "code",
   "execution_count": null,
   "id": "4b214201",
   "metadata": {},
   "outputs": [],
   "source": [
    "df_food_beer[\"Package\"] = df_food_beer[\"Package\"].apply(limpar_area)"
   ]
  },
  {
   "cell_type": "code",
   "execution_count": null,
   "id": "d6d27689",
   "metadata": {},
   "outputs": [],
   "source": [
    "df_food_beer[\"Name\"] = df_food_beer[\"Name\"].apply(limpar_area)"
   ]
  },
  {
   "cell_type": "code",
   "execution_count": null,
   "id": "c772a725",
   "metadata": {},
   "outputs": [],
   "source": [
    "df_food_beer[\"Product\"] = df_food_beer[\"Product\"].apply(limpar_area)"
   ]
  },
  {
   "cell_type": "code",
   "execution_count": null,
   "id": "c9dff45e",
   "metadata": {},
   "outputs": [],
   "source": [
    "# Transforming column 'Date' to datetime\n",
    "\n",
    "df_food_beer['Date'] = pd.to_datetime(df_food_beer['Date'], format='%Y-%m-%d')\n",
    "\n",
    "# Creating new columns 'Year', 'Month', 'Day'\n",
    "\n",
    "df_food_beer['Year']  = df_food_beer['Date'].dt.strftime('%Y')\n",
    "df_food_beer['Month'] = df_food_beer['Date'].dt.strftime('%m')\n",
    "df_food_beer['Day']  = df_food_beer['Date'].dt.strftime('%d')"
   ]
  },
  {
   "cell_type": "markdown",
   "id": "90147de7",
   "metadata": {},
   "source": [
    "## General overview Amount of Sales at each odd product"
   ]
  },
  {
   "cell_type": "code",
   "execution_count": null,
   "id": "33aebd0a",
   "metadata": {},
   "outputs": [],
   "source": [
    "#df_food_beer.groupby(['Product','Year'])[['Year','Qty','Total Price']].agg(['mean','sum','count'])"
   ]
  },
  {
   "cell_type": "code",
   "execution_count": 1,
   "id": "5f65fa0f",
   "metadata": {},
   "outputs": [],
   "source": [
    "# Maiores altas de vendas e faturamento\n",
    "\n",
    "#df_food_beer.groupby(['Product','Year'])['Total Price'].sum().sort_values(ascending=False)\n",
    "#df_food_beer.groupby('Product')['Qty'].sum().sort_values(ascending=False)"
   ]
  },
  {
   "cell_type": "code",
   "execution_count": null,
   "id": "6cfd0234",
   "metadata": {},
   "outputs": [],
   "source": [
    "#df_food_beer[['Product','Qty','Total Price']].groupby('Product').agg(['mean','sum','count']).sort_values(by='Product')"
   ]
  },
  {
   "cell_type": "code",
   "execution_count": 2,
   "id": "113da3d7",
   "metadata": {},
   "outputs": [],
   "source": [
    "#df_food_beer['Unit Price'] = df_food_beer['Total Price']/df_food_beer['Qty']"
   ]
  },
  {
   "cell_type": "code",
   "execution_count": null,
   "id": "31119f15",
   "metadata": {},
   "outputs": [],
   "source": []
  },
  {
   "cell_type": "markdown",
   "id": "d613d0d8",
   "metadata": {},
   "source": [
    "# RIGHT BELOW IS THE BEHAVIOR OVERVIEW OF EACH PRODUCT"
   ]
  },
  {
   "cell_type": "markdown",
   "id": "42b7b2fd",
   "metadata": {},
   "source": [
    "## Data Pre-processing"
   ]
  },
  {
   "cell_type": "markdown",
   "id": "e301dbd6",
   "metadata": {},
   "source": [
    "- data cleaning\n",
    "- data transformation\n",
    "- data reduction"
   ]
  },
  {
   "cell_type": "markdown",
   "id": "8f4667b9",
   "metadata": {},
   "source": [
    "## BEER DATAFRAME"
   ]
  },
  {
   "cell_type": "code",
   "execution_count": null,
   "id": "f8df1bad",
   "metadata": {},
   "outputs": [],
   "source": [
    "df_beer = df_food_beer[df_food_beer['Product'] == 'BEER']"
   ]
  },
  {
   "cell_type": "code",
   "execution_count": null,
   "id": "700fff89",
   "metadata": {},
   "outputs": [],
   "source": [
    "df_beer = df_beer.reset_index(drop=True)"
   ]
  },
  {
   "cell_type": "code",
   "execution_count": null,
   "id": "d0b04bc9",
   "metadata": {},
   "outputs": [],
   "source": [
    "df_beer['Unit Price'] = df_beer['Total Price']/df_beer['Qty']"
   ]
  },
  {
   "cell_type": "code",
   "execution_count": null,
   "id": "7b0e4328",
   "metadata": {},
   "outputs": [],
   "source": [
    "# function to replace types on PACKAGE column\n",
    "\n",
    "def limpar_area(row):\n",
    "    #try:\n",
    "    row = str(row).strip().lower()\n",
    "    row = row.replace('cx', 'un')\n",
    "    row = row.replace('cxa', 'un')\n",
    "    row = row.replace('la', 'un')\n",
    "    row = row.replace('gf', 'un')\n",
    "    row = row.replace('una', 'un')\n",
    "    return row"
   ]
  },
  {
   "cell_type": "code",
   "execution_count": null,
   "id": "a0c9dc3e",
   "metadata": {},
   "outputs": [],
   "source": [
    "df_beer['Package'] = df_beer['Package'].apply(limpar_area)"
   ]
  },
  {
   "cell_type": "code",
   "execution_count": null,
   "id": "28a6a9e0",
   "metadata": {},
   "outputs": [],
   "source": [
    "df_beer['Name'] = df_beer['Name'].apply(limpar_area)"
   ]
  },
  {
   "cell_type": "code",
   "execution_count": null,
   "id": "35093da5",
   "metadata": {},
   "outputs": [],
   "source": [
    "df_beer = df_beer[['Product','Qty','Unit Price','Total Price','Package','Name','Date','Year','Month','Day']]\n",
    "df_beer.head(3)"
   ]
  },
  {
   "cell_type": "code",
   "execution_count": null,
   "id": "220aac40",
   "metadata": {},
   "outputs": [],
   "source": [
    "df_beer_agg = df_beer.groupby(['Year', 'Month','Day']).sum()\n",
    "df_beer_agg"
   ]
  },
  {
   "cell_type": "markdown",
   "id": "366af841",
   "metadata": {},
   "source": [
    "* Creating df_beeer2 to plot the chart without Total Price"
   ]
  },
  {
   "cell_type": "code",
   "execution_count": null,
   "id": "1b65a615",
   "metadata": {},
   "outputs": [],
   "source": [
    "df_beer2 = df_beer[['Product','Qty','Unit Price','Package','Name','Date','Year','Month','Day']]\n",
    "df_beer2.head(3)"
   ]
  },
  {
   "cell_type": "code",
   "execution_count": null,
   "id": "cbb668d0",
   "metadata": {},
   "outputs": [],
   "source": [
    "df_beer_date2 = df_beer2.groupby(['Date']).sum()"
   ]
  },
  {
   "cell_type": "code",
   "execution_count": null,
   "id": "044152dc",
   "metadata": {},
   "outputs": [],
   "source": [
    "df_beer_date2.resample('1M').sum().plot(figsize=(9,4))"
   ]
  },
  {
   "cell_type": "markdown",
   "id": "d1d21577",
   "metadata": {},
   "source": [
    "## COW MEAT DATAFRAME"
   ]
  },
  {
   "cell_type": "code",
   "execution_count": null,
   "id": "3308f78f",
   "metadata": {},
   "outputs": [],
   "source": [
    "df_cow_meat = df_food_beer[df_food_beer['Product'] == 'COW_MEAT']"
   ]
  },
  {
   "cell_type": "code",
   "execution_count": null,
   "id": "4493c97d",
   "metadata": {},
   "outputs": [],
   "source": [
    "df_cow_meat = df_cow_meat.reset_index(drop=True)"
   ]
  },
  {
   "cell_type": "code",
   "execution_count": null,
   "id": "ebba9aa5",
   "metadata": {},
   "outputs": [],
   "source": [
    "df_cow_meat['Unit Price'] = df_cow_meat['Total Price']/df_cow_meat['Qty']"
   ]
  },
  {
   "cell_type": "code",
   "execution_count": null,
   "id": "385d0040",
   "metadata": {},
   "outputs": [],
   "source": [
    "df_cow_meat = df_cow_meat[['Product','Qty','Unit Price','Total Price','Package','Name','Date','Year','Month','Day']]\n",
    "df_cow_meat.head()"
   ]
  },
  {
   "cell_type": "code",
   "execution_count": null,
   "id": "702074b3",
   "metadata": {},
   "outputs": [],
   "source": [
    "# function to replace types on PACKAGE column\n",
    "\n",
    "def limpar_area(row):\n",
    "    #try:\n",
    "    row = str(row).strip().lower()\n",
    "    return row"
   ]
  },
  {
   "cell_type": "code",
   "execution_count": null,
   "id": "903dd61f",
   "metadata": {},
   "outputs": [],
   "source": [
    "df_cow_meat[\"Package\"]=df_cow_meat[\"Package\"].apply(limpar_area)"
   ]
  },
  {
   "cell_type": "code",
   "execution_count": null,
   "id": "c86801c6",
   "metadata": {},
   "outputs": [],
   "source": [
    "# Dropping row where PACKAGE == 'la', 'pc', 'cx', 'un'\n",
    "df_cow_meat.drop(df_cow_meat[df_cow_meat.Package != 'kg'].index, inplace=True)"
   ]
  },
  {
   "cell_type": "code",
   "execution_count": null,
   "id": "97519c28",
   "metadata": {},
   "outputs": [],
   "source": [
    "df_cow_meat_agg = df_cow_meat.groupby(['Year', 'Month','Day']).sum()\n",
    "df_cow_meat_agg"
   ]
  },
  {
   "cell_type": "markdown",
   "id": "40291021",
   "metadata": {},
   "source": [
    "* Creating df_cow_meat2 to plot the chart without Total Price"
   ]
  },
  {
   "cell_type": "code",
   "execution_count": null,
   "id": "973eaff3",
   "metadata": {},
   "outputs": [],
   "source": [
    "df_cow_meat2 = df_cow_meat[['Product','Qty','Unit Price','Package','Name','Date','Year','Month','Day']]\n",
    "df_cow_meat2.head(3)"
   ]
  },
  {
   "cell_type": "code",
   "execution_count": null,
   "id": "6021af27",
   "metadata": {},
   "outputs": [],
   "source": [
    "df_cow_meat2_date2 = df_cow_meat2.groupby(['Date']).sum()"
   ]
  },
  {
   "cell_type": "code",
   "execution_count": null,
   "id": "f1933afe",
   "metadata": {},
   "outputs": [],
   "source": [
    "df_cow_meat2_date2.resample('1M').sum().plot(figsize=(9,4))"
   ]
  },
  {
   "cell_type": "code",
   "execution_count": null,
   "id": "e6adb4b9",
   "metadata": {},
   "outputs": [],
   "source": []
  },
  {
   "cell_type": "markdown",
   "id": "4ac20786",
   "metadata": {},
   "source": [
    "## CHICKEN MEAT DATAFRAME"
   ]
  },
  {
   "cell_type": "code",
   "execution_count": null,
   "id": "22c4a6a8",
   "metadata": {},
   "outputs": [],
   "source": [
    "df_chicken_meat = df_food_beer[df_food_beer['Product'] == 'CHICKEN_MEAT']"
   ]
  },
  {
   "cell_type": "code",
   "execution_count": null,
   "id": "084d1efe",
   "metadata": {},
   "outputs": [],
   "source": [
    "df_chicken_meat = df_chicken_meat.reset_index(drop=True)"
   ]
  },
  {
   "cell_type": "code",
   "execution_count": null,
   "id": "8f21fca3",
   "metadata": {},
   "outputs": [],
   "source": [
    "df_chicken_meat['Package'].value_counts()"
   ]
  },
  {
   "cell_type": "code",
   "execution_count": null,
   "id": "485ed005",
   "metadata": {},
   "outputs": [],
   "source": [
    "# function to replace types on PACKAGE column\n",
    "\n",
    "def limpar_area(row):\n",
    "    #try:\n",
    "    row = str(row).strip().lower()\n",
    "    row = row.replace('cxa', 'kg')\n",
    "    row = row.replace('cx', 'kg')\n",
    "    row = row.replace('pc', 'kg')\n",
    "    row = row.replace('un', 'kg')\n",
    "    return row"
   ]
  },
  {
   "cell_type": "code",
   "execution_count": null,
   "id": "a3caf708",
   "metadata": {},
   "outputs": [],
   "source": [
    "df_chicken_meat[\"Package\"]=df_chicken_meat[\"Package\"].apply(limpar_area)"
   ]
  },
  {
   "cell_type": "code",
   "execution_count": null,
   "id": "10bb9fbf",
   "metadata": {},
   "outputs": [],
   "source": [
    "df_chicken_meat[\"Name\"]=df_chicken_meat[\"Name\"].apply(limpar_area)"
   ]
  },
  {
   "cell_type": "code",
   "execution_count": null,
   "id": "487491ac",
   "metadata": {},
   "outputs": [],
   "source": [
    "df_chicken_meat['Package'].value_counts()"
   ]
  },
  {
   "cell_type": "code",
   "execution_count": null,
   "id": "a058da1f",
   "metadata": {},
   "outputs": [],
   "source": [
    "# Dropping multiple rows based on column value \n",
    "\n",
    "indexNames = df_chicken_meat[df_chicken_meat['Name'].isin(['tirinha fr aurora 300gr', 'mini chicken frango', 'ave fiesta temp org seara','av if chester tradic kg','auroggets queijo 300gr','auroggets crocante 300gr','pt fgo seara desfiado 400','tekitos seara preque 120','iscas aurora frang 300gr','auroggets trad 300gr','carne moida lar 500gr','tekitos pote 500gr','iscas aurora temp 300gr','nugget pr.lq.60m promo','peito frango ceratti 100g','tekitos seara pre/que 120','nugget pr.pom.40g','nugget mar.lq.60m promo','nugget lq.incolor 60','nugget marrom pom.40','nugget marrom lq.60m','file frango emp.nob 300gr','strogonof.seara fra 500gr','strogonof.seara fra 500gr','nugget lq.branco 60m','iscas seara .frang 300gr', 'tekitos pote 500gr'])].index"
   ]
  },
  {
   "cell_type": "code",
   "execution_count": null,
   "id": "71b9a67a",
   "metadata": {},
   "outputs": [],
   "source": [
    "df_chicken_meat.drop(indexNames, inplace=True)"
   ]
  },
  {
   "cell_type": "code",
   "execution_count": null,
   "id": "58d39436",
   "metadata": {},
   "outputs": [],
   "source": [
    "df_chicken_meat['Unit Price'] = df_chicken_meat['Total Price']/df_chicken_meat['Qty']"
   ]
  },
  {
   "cell_type": "code",
   "execution_count": null,
   "id": "92730689",
   "metadata": {},
   "outputs": [],
   "source": [
    "df_chicken_meat_agg = df_chicken_meat.groupby(['Year', 'Month','Day']).sum()\n",
    "df_chicken_meat_agg.head()"
   ]
  },
  {
   "cell_type": "markdown",
   "id": "023fc1cf",
   "metadata": {},
   "source": [
    "* Creating df_chicken_meat2 to plot the chart without Total Price"
   ]
  },
  {
   "cell_type": "code",
   "execution_count": null,
   "id": "fd621bc9",
   "metadata": {},
   "outputs": [],
   "source": [
    "df_chicken_meat2 = df_chicken_meat[['Product','Qty','Unit Price','Package','Name','Date','Year','Month','Day']]\n",
    "df_chicken_meat2.head(1)"
   ]
  },
  {
   "cell_type": "code",
   "execution_count": null,
   "id": "e0593ec3",
   "metadata": {},
   "outputs": [],
   "source": [
    "df_chicken_meat2_date2 = df_chicken_meat2.groupby(['Date']).sum()"
   ]
  },
  {
   "cell_type": "code",
   "execution_count": null,
   "id": "85ee7632",
   "metadata": {},
   "outputs": [],
   "source": [
    "df_chicken_meat2_date2.resample('1M').sum().plot(figsize=(9,4))"
   ]
  },
  {
   "cell_type": "code",
   "execution_count": null,
   "id": "672e83ba",
   "metadata": {},
   "outputs": [],
   "source": []
  },
  {
   "cell_type": "markdown",
   "id": "a094d14f",
   "metadata": {},
   "source": [
    "## PIG MEAT DATAFRAME"
   ]
  },
  {
   "cell_type": "code",
   "execution_count": null,
   "id": "7c606d87",
   "metadata": {},
   "outputs": [],
   "source": [
    "df_pig_meat = df_food_beer[df_food_beer['Product'] == 'PIG_MEAT']"
   ]
  },
  {
   "cell_type": "code",
   "execution_count": null,
   "id": "72c9bd79",
   "metadata": {},
   "outputs": [],
   "source": [
    "df_pig_meat = df_pig_meat.reset_index(drop=True)"
   ]
  },
  {
   "cell_type": "code",
   "execution_count": null,
   "id": "9cfb62d2",
   "metadata": {},
   "outputs": [],
   "source": [
    "df_pig_meat['Unit Price'] = (df_pig_meat['Total Price'])/(df_pig_meat['Qty'])"
   ]
  },
  {
   "cell_type": "code",
   "execution_count": null,
   "id": "f07f8927",
   "metadata": {},
   "outputs": [],
   "source": [
    "df_pig_meat = df_pig_meat[['Product','Qty','Unit Price','Total Price','Package','Name','Date','Year','Month','Day']]"
   ]
  },
  {
   "cell_type": "code",
   "execution_count": null,
   "id": "7ba7ca82",
   "metadata": {},
   "outputs": [],
   "source": [
    "# function to clean empty spaces & replace types on PACKAGE column\n",
    "\n",
    "def limpar_area(row):\n",
    "    #try:\n",
    "    row = str(row).strip().lower()\n",
    "\n",
    "    return row"
   ]
  },
  {
   "cell_type": "code",
   "execution_count": null,
   "id": "f059c953",
   "metadata": {},
   "outputs": [],
   "source": [
    "df_pig_meat[\"Package\"]=df_pig_meat[\"Package\"].apply(limpar_area)"
   ]
  },
  {
   "cell_type": "code",
   "execution_count": null,
   "id": "51452f13",
   "metadata": {},
   "outputs": [],
   "source": [
    "df_pig_meat[\"Name\"]=df_pig_meat[\"Name\"].apply(limpar_area)"
   ]
  },
  {
   "cell_type": "code",
   "execution_count": null,
   "id": "e38c7193",
   "metadata": {},
   "outputs": [],
   "source": [
    "# Dropping row where PACKAGE == cxa, cx, pt, la, un, pc\n",
    "\n",
    "df_pig_meat.drop(df_pig_meat[df_pig_meat.Package != 'kg'].index, inplace=True)"
   ]
  },
  {
   "cell_type": "code",
   "execution_count": null,
   "id": "adf9800e",
   "metadata": {},
   "outputs": [],
   "source": [
    "df_pig_meat['Package'].value_counts()"
   ]
  },
  {
   "cell_type": "code",
   "execution_count": null,
   "id": "d8a997c4",
   "metadata": {},
   "outputs": [],
   "source": [
    "df_pig_meat_agg = df_pig_meat.groupby(['Year', 'Month','Day']).sum()\n",
    "df_pig_meat_agg"
   ]
  },
  {
   "cell_type": "markdown",
   "id": "d7de491c",
   "metadata": {},
   "source": [
    "* Creating df_pig_meat2 to plot the chart without Total Price"
   ]
  },
  {
   "cell_type": "code",
   "execution_count": null,
   "id": "949d8405",
   "metadata": {},
   "outputs": [],
   "source": [
    "df_pig_meat2 = df_pig_meat[['Product','Qty','Unit Price','Package','Name','Date','Year','Month','Day']]\n",
    "df_pig_meat2.head(3)"
   ]
  },
  {
   "cell_type": "code",
   "execution_count": null,
   "id": "4628e1a4",
   "metadata": {},
   "outputs": [],
   "source": [
    "df_pig_meat2_date2 = df_pig_meat2.groupby(['Date']).sum()"
   ]
  },
  {
   "cell_type": "code",
   "execution_count": null,
   "id": "dffd64a0",
   "metadata": {},
   "outputs": [],
   "source": [
    "df_pig_meat2_date2.resample('1M').sum().plot(figsize=(9,4))"
   ]
  },
  {
   "cell_type": "code",
   "execution_count": null,
   "id": "b4ef2fe0",
   "metadata": {},
   "outputs": [],
   "source": []
  },
  {
   "cell_type": "markdown",
   "id": "9e045ce6",
   "metadata": {},
   "source": [
    "## FISH MEAT DATAFRAME"
   ]
  },
  {
   "cell_type": "code",
   "execution_count": null,
   "id": "481c1bf6",
   "metadata": {},
   "outputs": [],
   "source": [
    "df_fish_meat = df_food_beer[df_food_beer['Product'] == 'FISH_MEAT']"
   ]
  },
  {
   "cell_type": "code",
   "execution_count": null,
   "id": "1afc09e5",
   "metadata": {},
   "outputs": [],
   "source": [
    "df_fish_meat = df_fish_meat.reset_index(drop=True)"
   ]
  },
  {
   "cell_type": "code",
   "execution_count": null,
   "id": "5839f8d9",
   "metadata": {},
   "outputs": [],
   "source": [
    "df_fish_meat['Unit Price'] = df_fish_meat['Total Price']/df_fish_meat['Qty']"
   ]
  },
  {
   "cell_type": "code",
   "execution_count": null,
   "id": "5744670f",
   "metadata": {},
   "outputs": [],
   "source": [
    "#df_fish_meat = [['Product', 'Qty','Unit Price','Total Price','Package','Name','Date']]"
   ]
  },
  {
   "cell_type": "code",
   "execution_count": null,
   "id": "e687c648",
   "metadata": {},
   "outputs": [],
   "source": [
    "# function to replace types on PACKAGE column\n",
    "\n",
    "def limpar_area(row):\n",
    "    #try:\n",
    "    row = str(row).strip().lower()\n",
    "\n",
    "    return row"
   ]
  },
  {
   "cell_type": "code",
   "execution_count": null,
   "id": "fce003ea",
   "metadata": {},
   "outputs": [],
   "source": [
    "df_fish_meat[\"Package\"]=df_fish_meat[\"Package\"].apply(limpar_area)"
   ]
  },
  {
   "cell_type": "code",
   "execution_count": null,
   "id": "089952f5",
   "metadata": {},
   "outputs": [],
   "source": [
    "df_fish_meat[\"Name\"]=df_fish_meat[\"Name\"].apply(limpar_area)"
   ]
  },
  {
   "cell_type": "code",
   "execution_count": null,
   "id": "55c43a56",
   "metadata": {},
   "outputs": [],
   "source": [
    "# Dropping row where PACKAGE == pc, vd, la, un\n",
    "\n",
    "df_fish_meat.drop(df_fish_meat[df_fish_meat.Package != 'kg'].index, inplace=True)"
   ]
  },
  {
   "cell_type": "code",
   "execution_count": null,
   "id": "9adc5a52",
   "metadata": {},
   "outputs": [],
   "source": [
    "df_fish_meat_agg = df_fish_meat.groupby(['Year', 'Month','Day']).sum()\n",
    "df_fish_meat_agg.head()"
   ]
  },
  {
   "cell_type": "markdown",
   "id": "d63ed850",
   "metadata": {},
   "source": [
    "* Creating df_fish_meat2 to plot the chart without Total Price"
   ]
  },
  {
   "cell_type": "code",
   "execution_count": null,
   "id": "989b8a50",
   "metadata": {},
   "outputs": [],
   "source": [
    "df_fish_meat2 = df_fish_meat[['Product','Qty','Unit Price','Package','Name','Date','Year','Month','Day']]\n",
    "df_fish_meat2.head(3)"
   ]
  },
  {
   "cell_type": "code",
   "execution_count": null,
   "id": "7eef6ce3",
   "metadata": {},
   "outputs": [],
   "source": [
    "df_fish_meat2_date2 = df_fish_meat2.groupby(['Date']).sum()"
   ]
  },
  {
   "cell_type": "code",
   "execution_count": null,
   "id": "30a88818",
   "metadata": {},
   "outputs": [],
   "source": [
    "df_fish_meat2_date2.resample('1M').sum().plot(figsize=(9,4))"
   ]
  },
  {
   "cell_type": "code",
   "execution_count": null,
   "id": "a58c428d",
   "metadata": {},
   "outputs": [],
   "source": []
  },
  {
   "cell_type": "markdown",
   "id": "809b8ae7",
   "metadata": {},
   "source": [
    "# RICE DATAFRAME"
   ]
  },
  {
   "cell_type": "code",
   "execution_count": null,
   "id": "7416ab2b",
   "metadata": {},
   "outputs": [],
   "source": [
    "df_rice = df_food_beer[df_food_beer['Product'] == 'RICE']"
   ]
  },
  {
   "cell_type": "code",
   "execution_count": null,
   "id": "a907994a",
   "metadata": {},
   "outputs": [],
   "source": [
    "df_rice = df_rice.reset_index(drop=True)"
   ]
  },
  {
   "cell_type": "code",
   "execution_count": null,
   "id": "8c7be4c2",
   "metadata": {},
   "outputs": [],
   "source": [
    "# function to replace types on PACKAGE column\n",
    "\n",
    "def limpar_area(row):\n",
    "    #try:\n",
    "    row = str(row).strip().lower()\n",
    "    row = row.replace('pc', 'un')\n",
    "\n",
    "    return row"
   ]
  },
  {
   "cell_type": "code",
   "execution_count": null,
   "id": "0b81929a",
   "metadata": {},
   "outputs": [],
   "source": [
    "df_rice.Package = df_rice.Package.apply(limpar_area)"
   ]
  },
  {
   "cell_type": "code",
   "execution_count": null,
   "id": "72b1286e",
   "metadata": {},
   "outputs": [],
   "source": [
    "df_rice.Name = df_rice.Name.apply(limpar_area)"
   ]
  },
  {
   "cell_type": "code",
   "execution_count": null,
   "id": "58e735be",
   "metadata": {},
   "outputs": [],
   "source": [
    "# Dropping row where PACKAGE != un\n",
    "\n",
    "df_rice.drop(df_rice[df_rice.Package != 'un'].index, inplace=True)"
   ]
  },
  {
   "cell_type": "code",
   "execution_count": null,
   "id": "448c691d",
   "metadata": {},
   "outputs": [],
   "source": [
    "df_rice['Unit Price'] = df_rice['Total Price']/df_rice['Qty']"
   ]
  },
  {
   "cell_type": "code",
   "execution_count": null,
   "id": "97f42b4e",
   "metadata": {},
   "outputs": [],
   "source": [
    "df_rice = df_rice[['Product','Qty','Unit Price','Total Price','Package','Name','Date','Year','Month','Day']]"
   ]
  },
  {
   "cell_type": "code",
   "execution_count": null,
   "id": "c1025672",
   "metadata": {},
   "outputs": [],
   "source": [
    "df_rice_agg = df_rice.groupby(['Year', 'Month','Day']).sum()\n",
    "df_rice_agg.head"
   ]
  },
  {
   "cell_type": "markdown",
   "id": "7607bb48",
   "metadata": {},
   "source": [
    "* Creating df_rice2 to plot the chart without Total Price"
   ]
  },
  {
   "cell_type": "code",
   "execution_count": null,
   "id": "ead7ed09",
   "metadata": {},
   "outputs": [],
   "source": [
    "df_rice2 = df_rice[['Product','Qty','Unit Price','Package','Name','Date','Year','Month','Day']]"
   ]
  },
  {
   "cell_type": "code",
   "execution_count": null,
   "id": "e4f384c1",
   "metadata": {},
   "outputs": [],
   "source": [
    "df_rice2_date = df_rice2.groupby(['Date']).sum()"
   ]
  },
  {
   "cell_type": "code",
   "execution_count": null,
   "id": "1d3f987c",
   "metadata": {},
   "outputs": [],
   "source": [
    "df_rice2_date.resample('1M').sum().plot(figsize=(9,4))"
   ]
  },
  {
   "cell_type": "code",
   "execution_count": null,
   "id": "8fec5e34",
   "metadata": {},
   "outputs": [],
   "source": []
  },
  {
   "cell_type": "markdown",
   "id": "228a95a0",
   "metadata": {},
   "source": [
    "## BEAN DATAFRAME"
   ]
  },
  {
   "cell_type": "code",
   "execution_count": null,
   "id": "3dfb61a7",
   "metadata": {},
   "outputs": [],
   "source": [
    "df_bean = df_food_beer[df_food_beer['Product'] == 'BEAN']"
   ]
  },
  {
   "cell_type": "code",
   "execution_count": null,
   "id": "1eeb4562",
   "metadata": {},
   "outputs": [],
   "source": [
    "df_bean = df_bean.reset_index(drop=True)"
   ]
  },
  {
   "cell_type": "code",
   "execution_count": null,
   "id": "90c98594",
   "metadata": {},
   "outputs": [],
   "source": [
    "# function to replace types on PACKAGE column\n",
    "\n",
    "def limpar_area(row):\n",
    "    #try:\n",
    "    row = str(row).strip().lower()\n",
    "    row = row.replace('pc', 'un')\n",
    "    row = row.replace('la', 'un')\n",
    "\n",
    "    return row"
   ]
  },
  {
   "cell_type": "code",
   "execution_count": null,
   "id": "cebb2408",
   "metadata": {},
   "outputs": [],
   "source": [
    "df_bean.Package = df_bean.Package.apply(limpar_area)"
   ]
  },
  {
   "cell_type": "code",
   "execution_count": null,
   "id": "1e1d19e0",
   "metadata": {},
   "outputs": [],
   "source": [
    "df_bean.Name = df_bean.Name.apply(limpar_area)"
   ]
  },
  {
   "cell_type": "code",
   "execution_count": null,
   "id": "031bb413",
   "metadata": {},
   "outputs": [],
   "source": [
    "df_bean.drop(df_bean[df_bean.Package != 'un'].index, inplace=True)"
   ]
  },
  {
   "cell_type": "code",
   "execution_count": null,
   "id": "a996169c",
   "metadata": {},
   "outputs": [],
   "source": [
    "df_bean['Unit Price'] = df_bean['Total Price']/df_bean['Qty']"
   ]
  },
  {
   "cell_type": "code",
   "execution_count": null,
   "id": "fd05f1cb",
   "metadata": {},
   "outputs": [],
   "source": [
    "df_bean = df_bean[['Product','Qty','Unit Price','Total Price','Package','Name','Date','Year','Month','Day']]"
   ]
  },
  {
   "cell_type": "code",
   "execution_count": null,
   "id": "e7d5fde2",
   "metadata": {},
   "outputs": [],
   "source": [
    "df_bean_agg = df_bean.groupby(['Year', 'Month','Day']).sum()\n",
    "df_bean_agg"
   ]
  },
  {
   "cell_type": "markdown",
   "id": "acf2e960",
   "metadata": {},
   "source": [
    "* Creating df_bean2 to plot the chart without Total Price"
   ]
  },
  {
   "cell_type": "code",
   "execution_count": null,
   "id": "8dad57cf",
   "metadata": {},
   "outputs": [],
   "source": [
    "df_bean2 = df_bean[['Product','Qty','Unit Price','Package','Name','Date','Year','Month','Day']]"
   ]
  },
  {
   "cell_type": "code",
   "execution_count": null,
   "id": "426c3a57",
   "metadata": {},
   "outputs": [],
   "source": [
    "df_bean2_date = df_bean2.groupby(['Date']).sum()"
   ]
  },
  {
   "cell_type": "code",
   "execution_count": null,
   "id": "1b571ce9",
   "metadata": {},
   "outputs": [],
   "source": [
    "df_bean2_date.resample('1M').sum().plot(figsize=(9,4))"
   ]
  },
  {
   "cell_type": "code",
   "execution_count": null,
   "id": "52eebcc2",
   "metadata": {},
   "outputs": [],
   "source": []
  },
  {
   "cell_type": "markdown",
   "id": "cf756755",
   "metadata": {},
   "source": [
    "## COFFE&TEA DATAFRAME"
   ]
  },
  {
   "cell_type": "code",
   "execution_count": null,
   "id": "86809b01",
   "metadata": {},
   "outputs": [],
   "source": [
    "df_coffe_tea = df_food_beer[df_food_beer['Product'] == 'COFFE&TEA']"
   ]
  },
  {
   "cell_type": "code",
   "execution_count": null,
   "id": "a531b8f0",
   "metadata": {},
   "outputs": [],
   "source": [
    "df_coffe_tea = df_coffe_tea.reset_index(drop=True)"
   ]
  },
  {
   "cell_type": "code",
   "execution_count": null,
   "id": "d6d6d6bf",
   "metadata": {},
   "outputs": [],
   "source": [
    "# function to replace types on PACKAGE column\n",
    "\n",
    "def limpar_area(row):\n",
    "    #try:\n",
    "    row = str(row).strip().lower()\n",
    "    row = row.replace('vd', 'un')\n",
    "    row = row.replace('cxa', 'un')\n",
    "    row = row.replace('cx', 'un')\n",
    "    row = row.replace('pc', 'un')\n",
    "\n",
    "    return row"
   ]
  },
  {
   "cell_type": "code",
   "execution_count": null,
   "id": "36e32491",
   "metadata": {},
   "outputs": [],
   "source": [
    "df_coffe_tea.Package = df_coffe_tea.Package.apply(limpar_area)"
   ]
  },
  {
   "cell_type": "code",
   "execution_count": null,
   "id": "19a59f96",
   "metadata": {},
   "outputs": [],
   "source": [
    "df_coffe_tea = df_coffe_tea.reset_index(drop=True)"
   ]
  },
  {
   "cell_type": "code",
   "execution_count": null,
   "id": "0651ff65",
   "metadata": {},
   "outputs": [],
   "source": [
    "df_coffe_tea.drop(df_coffe_tea[df_coffe_tea.Package != 'un'].index, inplace=True)"
   ]
  },
  {
   "cell_type": "code",
   "execution_count": null,
   "id": "3e6b8d20",
   "metadata": {},
   "outputs": [],
   "source": [
    "df_coffe_tea['Unit Price'] = df_coffe_tea['Total Price']/df_coffe_tea['Qty']"
   ]
  },
  {
   "cell_type": "code",
   "execution_count": null,
   "id": "703d2a08",
   "metadata": {},
   "outputs": [],
   "source": [
    "df_coffe_tea = df_coffe_tea[['Product','Qty','Unit Price','Total Price','Package','Name','Date','Year','Month','Day']]"
   ]
  },
  {
   "cell_type": "code",
   "execution_count": null,
   "id": "e4d2aee7",
   "metadata": {},
   "outputs": [],
   "source": [
    "df_coffe_tea_agg = df_coffe_tea.groupby(['Year', 'Month','Day']).sum()\n",
    "df_coffe_tea_agg.head()"
   ]
  },
  {
   "cell_type": "markdown",
   "id": "4e31269b",
   "metadata": {},
   "source": [
    "* Creating df_coffe_tea2 to plot the chart without Total Price"
   ]
  },
  {
   "cell_type": "code",
   "execution_count": null,
   "id": "b283c18a",
   "metadata": {},
   "outputs": [],
   "source": [
    "df_coffe_tea2 = df_coffe_tea[['Product','Qty','Unit Price','Package','Name','Date','Year','Month','Day']]"
   ]
  },
  {
   "cell_type": "code",
   "execution_count": null,
   "id": "a720a512",
   "metadata": {},
   "outputs": [],
   "source": [
    "df_coffe_tea2_date = df_coffe_tea2.groupby(['Date']).sum()"
   ]
  },
  {
   "cell_type": "code",
   "execution_count": null,
   "id": "74aba3c8",
   "metadata": {},
   "outputs": [],
   "source": [
    "df_coffe_tea2_date.resample('1M').sum().plot(figsize=(9,4))"
   ]
  },
  {
   "cell_type": "code",
   "execution_count": null,
   "id": "427ecbad",
   "metadata": {},
   "outputs": [],
   "source": []
  },
  {
   "cell_type": "markdown",
   "id": "222674f8",
   "metadata": {},
   "source": [
    "## CANDY DATAFRAME"
   ]
  },
  {
   "cell_type": "code",
   "execution_count": null,
   "id": "7722641d",
   "metadata": {},
   "outputs": [],
   "source": [
    "df_candy = df_food_beer[df_food_beer['Product'] == 'CANDY']"
   ]
  },
  {
   "cell_type": "code",
   "execution_count": null,
   "id": "41714571",
   "metadata": {},
   "outputs": [],
   "source": [
    "df_candy = df_candy.reset_index(drop=True)"
   ]
  },
  {
   "cell_type": "code",
   "execution_count": null,
   "id": "380b827a",
   "metadata": {},
   "outputs": [],
   "source": [
    "# function to replace types on PACKAGE column\n",
    "\n",
    "def limpar_area(row):\n",
    "    #try:\n",
    "    row = str(row).strip().lower()\n",
    "    row = row.replace('cj', 'un')\n",
    "    row = row.replace('cxa', 'cx')\n",
    "    #row = row.replace('cx', 'un')\n",
    "    #row = row.replace('pc', 'un')\n",
    "\n",
    "    return row"
   ]
  },
  {
   "cell_type": "code",
   "execution_count": null,
   "id": "2839570b",
   "metadata": {},
   "outputs": [],
   "source": [
    "df_candy['Package'] = df_candy['Package'].apply(limpar_area)"
   ]
  },
  {
   "cell_type": "code",
   "execution_count": null,
   "id": "852f1658",
   "metadata": {},
   "outputs": [],
   "source": [
    "df_candy['Name'] = df_candy['Name'].apply(limpar_area)"
   ]
  },
  {
   "cell_type": "code",
   "execution_count": null,
   "id": "dd7ecc85",
   "metadata": {},
   "outputs": [],
   "source": [
    "#[doce.lower() for doce in ['BOMB LACTA FAVOR 250,6 GR','BOMB.ESPECIAL.251GR','BOMB.GAROTO 250GR','BOMB.GAROTO 300GR','BOMB.ESPECIAL.300GR']]"
   ]
  },
  {
   "cell_type": "code",
   "execution_count": null,
   "id": "d5b463fb",
   "metadata": {},
   "outputs": [],
   "source": [
    "df_candy = df_candy[(df_candy['Package'] == 'un') | (df_candy['Name'].isin(['bomb lacta favor 250,6 gr',\n",
    " 'bomb.especial.251gr',\n",
    " 'bomb.garoto 250gr',\n",
    " 'bomb.garoto 300gr',\n",
    " 'bomb.especial.300gr']))]  "
   ]
  },
  {
   "cell_type": "code",
   "execution_count": null,
   "id": "52c43ec4",
   "metadata": {},
   "outputs": [],
   "source": [
    "df_candy['Unit Price'] = df_candy['Total Price']/df_candy['Qty']"
   ]
  },
  {
   "cell_type": "code",
   "execution_count": null,
   "id": "09621761",
   "metadata": {},
   "outputs": [],
   "source": [
    "df_candy = df_candy[['Product','Qty','Unit Price','Total Price','Package','Name','Date','Year','Month','Day']]"
   ]
  },
  {
   "cell_type": "markdown",
   "id": "a6d3744a",
   "metadata": {},
   "source": [
    "* Creating df_candy2 to plot the chart without Total Price"
   ]
  },
  {
   "cell_type": "code",
   "execution_count": null,
   "id": "a470f284",
   "metadata": {},
   "outputs": [],
   "source": [
    "df_candy2 = df_candy[['Product','Qty','Unit Price','Package','Name','Date','Year','Month','Day']]"
   ]
  },
  {
   "cell_type": "code",
   "execution_count": null,
   "id": "3557bf7e",
   "metadata": {},
   "outputs": [],
   "source": [
    "df_candy2_date = df_candy2.groupby(['Date']).sum()"
   ]
  },
  {
   "cell_type": "code",
   "execution_count": null,
   "id": "174e8308",
   "metadata": {},
   "outputs": [],
   "source": [
    "df_candy2_date.resample('1M').sum().plot(figsize=(9,4))"
   ]
  },
  {
   "cell_type": "code",
   "execution_count": null,
   "id": "989803ad",
   "metadata": {},
   "outputs": [],
   "source": []
  },
  {
   "cell_type": "markdown",
   "id": "bed6cfe4",
   "metadata": {},
   "source": [
    "## FRUIT DATAFRAME"
   ]
  },
  {
   "cell_type": "code",
   "execution_count": null,
   "id": "b3051c37",
   "metadata": {},
   "outputs": [],
   "source": [
    "df_fruit = df_food_beer[df_food_beer['Product'] == 'FRUIT']"
   ]
  },
  {
   "cell_type": "code",
   "execution_count": null,
   "id": "7c3d1d07",
   "metadata": {},
   "outputs": [],
   "source": [
    "df_fruit = df_fruit.reset_index(drop=True)"
   ]
  },
  {
   "cell_type": "code",
   "execution_count": null,
   "id": "497ad7de",
   "metadata": {},
   "outputs": [],
   "source": [
    "# function to replace types on PACKAGE column\n",
    "\n",
    "def limpar_area(row):\n",
    "    #try:\n",
    "    row = str(row).strip().lower()\n",
    "    #row = row.replace('cj', 'un')\n",
    "    #row = row.replace('cxa', 'cx')\n",
    "    #row = row.replace('cx', 'un')\n",
    "    #row = row.replace('pc', 'un')\n",
    "\n",
    "    return row"
   ]
  },
  {
   "cell_type": "code",
   "execution_count": null,
   "id": "9add6310",
   "metadata": {},
   "outputs": [],
   "source": [
    "df_fruit['Package'] = df_fruit['Package'].apply(limpar_area)"
   ]
  },
  {
   "cell_type": "code",
   "execution_count": null,
   "id": "497cb9c9",
   "metadata": {},
   "outputs": [],
   "source": [
    "df_fruit['Name'] = df_fruit['Name'].apply(limpar_area)"
   ]
  },
  {
   "cell_type": "code",
   "execution_count": null,
   "id": "1db6680e",
   "metadata": {},
   "outputs": [],
   "source": [
    "df_fruit['Package'].value_counts()"
   ]
  },
  {
   "cell_type": "code",
   "execution_count": null,
   "id": "652078f6",
   "metadata": {},
   "outputs": [],
   "source": [
    "#b = a.groupby(\"Name\").filter(lambda x: len(x) <73)"
   ]
  },
  {
   "cell_type": "code",
   "execution_count": null,
   "id": "6083ec5c",
   "metadata": {
    "scrolled": true
   },
   "outputs": [],
   "source": [
    "#b['Name'].value_counts()"
   ]
  },
  {
   "cell_type": "code",
   "execution_count": null,
   "id": "626368ca",
   "metadata": {},
   "outputs": [],
   "source": [
    "# to use in kg\n",
    "frutas = ['uva niagara vit bdja 500g','melao amarelo peca,maca fuji kg','melancia grauda un','abacaxi perola un',\n",
    "   ' uva ssemente isis 450g','uva ssemente thomp 450g','hort maca fuji kg','morango bdj','mexerica carioca kg',\n",
    "    'hort melao amarelo peca','melancia kg','abacaxi perola/hawai 1un','coco verde kg','melao sapo peca','pitaya kg',\n",
    "    'melao amarelo redinha un','hort melancia       un','hort coco verde     kg','uva s/ semente bdja 500gr',\n",
    "          'hort melancia baby un','acerola 500gr bdja','uva niagara bandja 450g','hort maca argentina kg','hort coco verde kg','uva ssemente bdja',\n",
    "    'morango bdj 295g','abacaxi perolahawai 1un','hort acerola 500gr bdja','carambola bja 300g','hort melancia grauda un',\n",
    "    'hort kiwi bandeja 600gr','hort melao sapo peca','kiwi bdja 600gr','ef morango bdja','kiwi t.monica bdja 600gr','figo bdja kg',\n",
    "   ' abacaxi perola kg','uva s/semente thomp 450g','uva s/semente bdja','kiwi monica bdja 600gr','maca fuji moinho azul 1kg',\n",
    "    'uva niagara bandja 495g']"
   ]
  },
  {
   "cell_type": "code",
   "execution_count": null,
   "id": "32e4c923",
   "metadata": {},
   "outputs": [],
   "source": [
    "df_fruit = df_fruit[(df_fruit['Package'] == 'kg') | (df_fruit['Name'].isin(['uva niagara vit bdja 500g','melao amarelo peca,maca fuji kg','melancia grauda un','abacaxi perola un',\n",
    "   ' uva ssemente isis 450g','uva ssemente thomp 450g','hort maca fuji kg','morango bdj','mexerica carioca kg',\n",
    "    'hort melao amarelo peca','melancia kg','abacaxi perola/hawai 1un','coco verde kg','melao sapo peca','pitaya kg',\n",
    "    'melao amarelo redinha un','hort melancia       un','hort coco verde     kg','uva s/ semente bdja 500gr',\n",
    "    'hort melancia baby un','acerola 500gr bdja','uva niagara bandja 450g','hort maca argentina kg','hort coco verde kg','uva ssemente bdja',\n",
    "    'morango bdj 295g','abacaxi perolahawai 1un','hort acerola 500gr bdja','carambola bja 300g','hort melancia grauda un',\n",
    "    'hort kiwi bandeja 600gr','hort melao sapo peca','kiwi bdja 600gr','ef morango bdja','kiwi t.monica bdja 600gr','figo bdja kg',\n",
    "   ' abacaxi perola kg','uva s/semente thomp 450g','uva s/semente bdja','kiwi monica bdja 600gr','maca fuji moinho azul 1kg',\n",
    "    'uva niagara bandja 495g']))]  "
   ]
  },
  {
   "cell_type": "code",
   "execution_count": null,
   "id": "571415f3",
   "metadata": {},
   "outputs": [],
   "source": [
    "df_fruit['Unit Price'] = df_fruit['Total Price']/df_fruit['Qty']"
   ]
  },
  {
   "cell_type": "code",
   "execution_count": null,
   "id": "1dc12b9d",
   "metadata": {},
   "outputs": [],
   "source": [
    "df_fruit = df_fruit[['Product','Qty','Unit Price','Total Price','Package','Name','Date','Year','Month','Day']]"
   ]
  },
  {
   "cell_type": "markdown",
   "id": "22960d59",
   "metadata": {},
   "source": [
    "* Creating df_sugar2 to plot the chart without Total Price"
   ]
  },
  {
   "cell_type": "code",
   "execution_count": null,
   "id": "eacde504",
   "metadata": {},
   "outputs": [],
   "source": [
    "df_fruit2 = df_fruit[['Product','Qty','Unit Price','Package','Name','Date','Year','Month','Day']]"
   ]
  },
  {
   "cell_type": "code",
   "execution_count": null,
   "id": "02af6379",
   "metadata": {},
   "outputs": [],
   "source": [
    "df_fruit2_date = df_fruit2.groupby(['Date']).sum()"
   ]
  },
  {
   "cell_type": "code",
   "execution_count": null,
   "id": "1f2034c3",
   "metadata": {},
   "outputs": [],
   "source": [
    "df_fruit2_date.resample('1M').sum().plot(figsize=(9,4))"
   ]
  },
  {
   "cell_type": "code",
   "execution_count": null,
   "id": "b1439a3a",
   "metadata": {},
   "outputs": [],
   "source": []
  },
  {
   "cell_type": "markdown",
   "id": "28d22338",
   "metadata": {},
   "source": [
    "## SUGAR DATAFRAME"
   ]
  },
  {
   "cell_type": "code",
   "execution_count": null,
   "id": "fb855f3f",
   "metadata": {},
   "outputs": [],
   "source": [
    "df_sugar = df_food_beer[df_food_beer['Product'] == 'SUGAR']"
   ]
  },
  {
   "cell_type": "code",
   "execution_count": null,
   "id": "bfcd4e37",
   "metadata": {},
   "outputs": [],
   "source": [
    "df_sugar = df_sugar.reset_index(drop=True)"
   ]
  },
  {
   "cell_type": "code",
   "execution_count": null,
   "id": "8ffb814d",
   "metadata": {},
   "outputs": [],
   "source": [
    "# function to replace types on PACKAGE column\n",
    "\n",
    "def limpar_area(row):\n",
    "    #try:\n",
    "    row = str(row).strip().lower()\n",
    "    row = row.replace('kg', 'un')\n",
    "    row = row.replace('pc', 'un')\n",
    "\n",
    "    return row"
   ]
  },
  {
   "cell_type": "code",
   "execution_count": null,
   "id": "fd4d84ca",
   "metadata": {},
   "outputs": [],
   "source": [
    "df_sugar['Package'] = df_sugar.Package.apply(limpar_area)"
   ]
  },
  {
   "cell_type": "code",
   "execution_count": null,
   "id": "fc7afae9",
   "metadata": {},
   "outputs": [],
   "source": [
    "df_sugar['Name'] = df_sugar.Name.apply(limpar_area)"
   ]
  },
  {
   "cell_type": "code",
   "execution_count": null,
   "id": "b3efb409",
   "metadata": {},
   "outputs": [],
   "source": [
    "df_sugar.Package.value_counts()"
   ]
  },
  {
   "cell_type": "code",
   "execution_count": null,
   "id": "32ffdc89",
   "metadata": {},
   "outputs": [],
   "source": [
    "df_sugar['Unit Price'] = df_sugar['Total Price']/df_sugar['Qty']"
   ]
  },
  {
   "cell_type": "code",
   "execution_count": null,
   "id": "3f70ce91",
   "metadata": {},
   "outputs": [],
   "source": [
    "df_sugar = df_sugar[['Product','Qty','Unit Price','Total Price','Package','Name','Date','Year','Month','Day']]"
   ]
  },
  {
   "cell_type": "code",
   "execution_count": null,
   "id": "ebf5dda6",
   "metadata": {},
   "outputs": [],
   "source": [
    "df_sugar_agg = df_sugar.groupby(['Year', 'Month','Day']).sum()\n",
    "df_sugar_agg.head()"
   ]
  },
  {
   "cell_type": "markdown",
   "id": "1569e678",
   "metadata": {},
   "source": [
    "* Creating df_sugar2 to plot the chart without Total Price"
   ]
  },
  {
   "cell_type": "code",
   "execution_count": null,
   "id": "a77713f9",
   "metadata": {},
   "outputs": [],
   "source": [
    "df_sugar2 = df_sugar[['Product','Qty','Unit Price','Package','Name','Date','Year','Month','Day']]"
   ]
  },
  {
   "cell_type": "code",
   "execution_count": null,
   "id": "b6367e06",
   "metadata": {},
   "outputs": [],
   "source": [
    "df_sugar2_date = df_sugar2.groupby(['Date']).sum()"
   ]
  },
  {
   "cell_type": "code",
   "execution_count": null,
   "id": "5638bd96",
   "metadata": {},
   "outputs": [],
   "source": [
    "df_sugar2_date.resample('1M').sum().plot(figsize=(9,4))"
   ]
  },
  {
   "cell_type": "code",
   "execution_count": null,
   "id": "8634adab",
   "metadata": {},
   "outputs": [],
   "source": []
  },
  {
   "cell_type": "markdown",
   "id": "843c7b18",
   "metadata": {},
   "source": [
    "## NATURAL DATAFRAME"
   ]
  },
  {
   "cell_type": "code",
   "execution_count": null,
   "id": "09edc64c",
   "metadata": {},
   "outputs": [],
   "source": [
    "df_natural = df_food_beer[df_food_beer['Product'] == 'NATURAL']"
   ]
  },
  {
   "cell_type": "code",
   "execution_count": null,
   "id": "172f710c",
   "metadata": {},
   "outputs": [],
   "source": [
    "df_natural = df_natural.reset_index(drop=True)"
   ]
  },
  {
   "cell_type": "code",
   "execution_count": null,
   "id": "0ecf34ce",
   "metadata": {},
   "outputs": [],
   "source": [
    "# function to replace types on PACKAGE column\n",
    "\n",
    "def limpar_area(row):\n",
    "    #try:\n",
    "    row = str(row).strip().lower()\n",
    "    row = row.replace('cx', 'un')\n",
    "    row = row.replace('cxa', 'un')\n",
    "    row = row.replace('una', 'un')\n",
    "\n",
    "    return row"
   ]
  },
  {
   "cell_type": "code",
   "execution_count": null,
   "id": "10aada38",
   "metadata": {},
   "outputs": [],
   "source": [
    "df_natural['Package'] = df_natural.Package.apply(limpar_area)"
   ]
  },
  {
   "cell_type": "code",
   "execution_count": null,
   "id": "e24723bc",
   "metadata": {},
   "outputs": [],
   "source": [
    "df_natural['Name'] = df_natural.Name.apply(limpar_area)"
   ]
  },
  {
   "cell_type": "code",
   "execution_count": null,
   "id": "ae8a06c2",
   "metadata": {},
   "outputs": [],
   "source": [
    "df_natural['Package'].value_counts()"
   ]
  },
  {
   "cell_type": "code",
   "execution_count": null,
   "id": "7e5267bf",
   "metadata": {},
   "outputs": [],
   "source": [
    "df_natural['Unit Price'] = df_natural['Total Price']/df_natural['Qty']"
   ]
  },
  {
   "cell_type": "code",
   "execution_count": null,
   "id": "3384b150",
   "metadata": {},
   "outputs": [],
   "source": [
    "df_natural = df_natural[['Product','Qty','Unit Price','Total Price','Package','Name','Date','Year','Month','Day']]"
   ]
  },
  {
   "cell_type": "markdown",
   "id": "20398783",
   "metadata": {},
   "source": [
    "* Creating df_natural to plot the chart without Total Price"
   ]
  },
  {
   "cell_type": "code",
   "execution_count": null,
   "id": "830d509d",
   "metadata": {},
   "outputs": [],
   "source": [
    "df_natural2 = df_natural[['Product','Qty','Unit Price','Package','Name','Date','Year','Month','Day']]\n",
    "df_natural2.head()"
   ]
  },
  {
   "cell_type": "code",
   "execution_count": null,
   "id": "1f743e73",
   "metadata": {},
   "outputs": [],
   "source": [
    "df_sugar2_date = df_natural2.groupby(['Date']).sum()"
   ]
  },
  {
   "cell_type": "code",
   "execution_count": null,
   "id": "48aba9a1",
   "metadata": {},
   "outputs": [],
   "source": [
    "df_sugar2_date.resample('1M').sum().plot(figsize=(9,4))"
   ]
  },
  {
   "cell_type": "code",
   "execution_count": null,
   "id": "47c79775",
   "metadata": {},
   "outputs": [],
   "source": []
  },
  {
   "cell_type": "markdown",
   "id": "2dafb75c",
   "metadata": {},
   "source": [
    "## CONCATENATE ALL DFs"
   ]
  },
  {
   "cell_type": "code",
   "execution_count": null,
   "id": "8a21bd2d",
   "metadata": {},
   "outputs": [],
   "source": [
    "# df_food_beer2 = pd.concat([\n",
    "#     df_beer2,df_cow_meat2,df_chicken_meat2,df_pig_meat2,df_fish_meat2,df_rice2,df_bean2,\n",
    "#     df_coffe_tea2,df_candy2,df_fruit2,df_sugar2,df_natural2])"
   ]
  },
  {
   "cell_type": "code",
   "execution_count": null,
   "id": "7973c80a",
   "metadata": {},
   "outputs": [],
   "source": [
    "#df_food_beer2 = df_food_beer2.reset_index(drop=True)"
   ]
  },
  {
   "cell_type": "code",
   "execution_count": null,
   "id": "96c7b47f",
   "metadata": {},
   "outputs": [],
   "source": [
    "#df_food_beer2"
   ]
  },
  {
   "cell_type": "code",
   "execution_count": null,
   "id": "cc1a7a25",
   "metadata": {},
   "outputs": [],
   "source": [
    "#df_food_beer2.to_excel('ALL_food_beer_products', index=False, sep=',', decimal='.')"
   ]
  },
  {
   "cell_type": "code",
   "execution_count": null,
   "id": "c36b5c1e",
   "metadata": {},
   "outputs": [],
   "source": []
  },
  {
   "cell_type": "markdown",
   "id": "7e768b68",
   "metadata": {},
   "source": [
    "# ODD PRODUCTS"
   ]
  },
  {
   "cell_type": "code",
   "execution_count": null,
   "id": "f9963b1c",
   "metadata": {},
   "outputs": [],
   "source": [
    "df_odd_products = pd.read_csv('odd_products.csv',sep=';' ,header=None,\n",
    "           names=['Product', 'Qty', 'Pack Price', 'Total Price','Package','Name','Date'])"
   ]
  },
  {
   "cell_type": "code",
   "execution_count": null,
   "id": "70069175",
   "metadata": {},
   "outputs": [],
   "source": [
    "def limpar_area(row):\n",
    "    #try:\n",
    "        row = row.strip()\n",
    "        return row"
   ]
  },
  {
   "cell_type": "code",
   "execution_count": null,
   "id": "dbddf6c4",
   "metadata": {},
   "outputs": [],
   "source": [
    "df_odd_products[\"Package\"] = df_odd_products[\"Package\"].apply(limpar_area)"
   ]
  },
  {
   "cell_type": "code",
   "execution_count": null,
   "id": "70bd34bf",
   "metadata": {},
   "outputs": [],
   "source": [
    "df_odd_products[\"Name\"] = df_odd_products[\"Name\"].apply(limpar_area)"
   ]
  },
  {
   "cell_type": "code",
   "execution_count": null,
   "id": "a52cf975",
   "metadata": {},
   "outputs": [],
   "source": [
    "df_odd_products[\"Product\"] = df_odd_products[\"Product\"].apply(limpar_area)"
   ]
  },
  {
   "cell_type": "code",
   "execution_count": null,
   "id": "a60c8c26",
   "metadata": {},
   "outputs": [],
   "source": [
    "# Transforming column 'Date' to datetime\n",
    "\n",
    "df_odd_products['Date'] = pd.to_datetime(df_odd_products['Date'], format='%Y-%m-%d')\n",
    "\n",
    "# Creating new columns 'Year', 'Month', 'Day'\n",
    "\n",
    "df_odd_products['Year']  = df_odd_products['Date'].dt.strftime('%Y')\n",
    "df_odd_products['Month'] = df_odd_products['Date'].dt.strftime('%m')\n",
    "df_odd_products['Day']  = df_odd_products['Date'].dt.strftime('%d')"
   ]
  },
  {
   "cell_type": "code",
   "execution_count": null,
   "id": "78ebad28",
   "metadata": {},
   "outputs": [],
   "source": [
    "df_odd_products"
   ]
  },
  {
   "cell_type": "markdown",
   "id": "23a204c0",
   "metadata": {},
   "source": [
    "## TOILET PAPER DATAFRAME"
   ]
  },
  {
   "cell_type": "code",
   "execution_count": null,
   "id": "2052d0b2",
   "metadata": {},
   "outputs": [],
   "source": [
    "df_paper = df_odd_products[df_odd_products['Product'] == 'TOILET PAPER']"
   ]
  },
  {
   "cell_type": "code",
   "execution_count": null,
   "id": "0cd9ff29",
   "metadata": {},
   "outputs": [],
   "source": [
    "df_paper = df_paper.reset_index(drop=True)"
   ]
  },
  {
   "cell_type": "code",
   "execution_count": null,
   "id": "91eace3c",
   "metadata": {},
   "outputs": [],
   "source": [
    "# function to replace types on PACKAGE column\n",
    "\n",
    "def limpar_area(row):\n",
    "        row = str(row).strip().lower()\n",
    "        row = row.replace('pc', 'un')\n",
    "        row = row.replace('la', 'un')\n",
    "\n",
    "        return row"
   ]
  },
  {
   "cell_type": "code",
   "execution_count": null,
   "id": "246c4595",
   "metadata": {},
   "outputs": [],
   "source": [
    "df_paper['Package'] = df_paper.Package.apply(limpar_area)"
   ]
  },
  {
   "cell_type": "code",
   "execution_count": null,
   "id": "58be1420",
   "metadata": {},
   "outputs": [],
   "source": [
    "df_paper['Name'] = df_paper.Name.apply(limpar_area)"
   ]
  },
  {
   "cell_type": "code",
   "execution_count": null,
   "id": "a025a35c",
   "metadata": {},
   "outputs": [],
   "source": [
    "# Adding new column Unit Price\n",
    "\n",
    "df_paper['Unit Price'] = df_paper['Pack Price']/df_paper['Qty']"
   ]
  },
  {
   "cell_type": "code",
   "execution_count": null,
   "id": "e1125ab4",
   "metadata": {},
   "outputs": [],
   "source": [
    "# dropped 'Pack Price'\n",
    "\n",
    "df_paper = df_paper[['Product','Qty','Unit Price','Total Price','Package','Name','Date','Year','Month','Day']]"
   ]
  },
  {
   "cell_type": "markdown",
   "id": "6ccf3ffb",
   "metadata": {},
   "source": [
    "* Creating df_paper2 to plot the chart without Total Price"
   ]
  },
  {
   "cell_type": "code",
   "execution_count": null,
   "id": "3c9b5d36",
   "metadata": {},
   "outputs": [],
   "source": [
    "df_paper2 = df_paper[['Product','Qty','Unit Price','Package','Name','Date','Year','Month','Day']]"
   ]
  },
  {
   "cell_type": "code",
   "execution_count": null,
   "id": "afd88427",
   "metadata": {},
   "outputs": [],
   "source": [
    "df_paper2_date2 = df_paper2.groupby(['Date']).sum()"
   ]
  },
  {
   "cell_type": "code",
   "execution_count": null,
   "id": "9a8828a5",
   "metadata": {},
   "outputs": [],
   "source": [
    "df_paper2_date2.resample('30D').sum().plot(figsize=(9,4))"
   ]
  },
  {
   "cell_type": "code",
   "execution_count": null,
   "id": "6473d141",
   "metadata": {},
   "outputs": [],
   "source": []
  },
  {
   "cell_type": "markdown",
   "id": "2edf1aa9",
   "metadata": {},
   "source": [
    "## PET DATAFRAME"
   ]
  },
  {
   "cell_type": "code",
   "execution_count": null,
   "id": "c0257eba",
   "metadata": {},
   "outputs": [],
   "source": [
    "df_pet = df_odd_products[df_odd_products['Product'] == 'PET']"
   ]
  },
  {
   "cell_type": "code",
   "execution_count": null,
   "id": "e9d7ac64",
   "metadata": {},
   "outputs": [],
   "source": [
    "df_pet = df_pet.reset_index(drop=True)"
   ]
  },
  {
   "cell_type": "code",
   "execution_count": null,
   "id": "334ea6f9",
   "metadata": {},
   "outputs": [],
   "source": [
    "# function to replace types on PACKAGE column\n",
    "\n",
    "def limpar_area(row):\n",
    "        \n",
    "        row = str(row).strip().lower()\n",
    "        row = row.replace('la', 'un')\n",
    "        row = row.replace('pc', 'un')\n",
    "        row = row.replace('gf', 'un')\n",
    "        row = row.replace('VDO', 'un')\n",
    "        row = row.replace('vdo', 'un')\n",
    "        row = row.replace('vd', 'un')\n",
    "        row = row.replace('cx', 'un')\n",
    "\n",
    "        return row"
   ]
  },
  {
   "cell_type": "code",
   "execution_count": null,
   "id": "c38552c8",
   "metadata": {},
   "outputs": [],
   "source": [
    "df_pet['Package'] = df_pet.Package.apply(limpar_area)"
   ]
  },
  {
   "cell_type": "code",
   "execution_count": null,
   "id": "3aef81fa",
   "metadata": {},
   "outputs": [],
   "source": [
    "df_pet['Name'] = df_pet.Name.apply(limpar_area)"
   ]
  },
  {
   "cell_type": "code",
   "execution_count": null,
   "id": "b80ab818",
   "metadata": {},
   "outputs": [],
   "source": [
    "# Adding new column Unit Price\n",
    "\n",
    "df_pet['Unit Price'] = df_pet['Pack Price']/df_pet['Qty']"
   ]
  },
  {
   "cell_type": "code",
   "execution_count": null,
   "id": "1bbb6a12",
   "metadata": {},
   "outputs": [],
   "source": [
    "df_pet = df_pet[['Product','Qty','Unit Price','Total Price','Package','Name','Date','Year','Month','Day']]"
   ]
  },
  {
   "cell_type": "markdown",
   "id": "7418de66",
   "metadata": {},
   "source": [
    "* Creating df_pet to plot the chart without Total Price"
   ]
  },
  {
   "cell_type": "code",
   "execution_count": null,
   "id": "e2d6143f",
   "metadata": {},
   "outputs": [],
   "source": [
    "df_pet2 = df_pet[['Product','Qty','Unit Price','Package','Name','Date','Year','Month','Day']]\n",
    "df_pet2.head()"
   ]
  },
  {
   "cell_type": "code",
   "execution_count": null,
   "id": "15d5c680",
   "metadata": {},
   "outputs": [],
   "source": [
    "df_pet_date2 = df_pet2.groupby(['Date']).sum()"
   ]
  },
  {
   "cell_type": "code",
   "execution_count": null,
   "id": "aac8f905",
   "metadata": {},
   "outputs": [],
   "source": [
    "df_pet_date2.resample('30D').sum().plot(figsize=(9,4))"
   ]
  },
  {
   "cell_type": "code",
   "execution_count": null,
   "id": "c3a45f6d",
   "metadata": {},
   "outputs": [],
   "source": []
  },
  {
   "cell_type": "markdown",
   "id": "15df6ac6",
   "metadata": {},
   "source": [
    "## CONCATE DF FOOD + DF ODD PRODUCTS"
   ]
  },
  {
   "cell_type": "code",
   "execution_count": null,
   "id": "0ca17bb1",
   "metadata": {},
   "outputs": [],
   "source": [
    "# df_odd_food_beer = pd.concat([\n",
    "#      df_beer2,df_cow_meat2,df_chicken_meat2,df_pig_meat2,df_fish_meat2,df_rice2,df_bean2,\n",
    "#      df_coffe_tea2,df_candy2,df_fruit2,df_sugar2,df_natural2, df_paper2, df_pet2])"
   ]
  },
  {
   "cell_type": "code",
   "execution_count": null,
   "id": "14f65877",
   "metadata": {},
   "outputs": [],
   "source": [
    "#df_odd_food_beer = df_odd_food_beer.reset_index(drop=True)"
   ]
  },
  {
   "cell_type": "code",
   "execution_count": null,
   "id": "9d566c5f",
   "metadata": {},
   "outputs": [],
   "source": [
    "#df_odd_food_beer.to_excel('ALL_odd_food_beer_products', index=False, decimal='.')#,sep=',')"
   ]
  },
  {
   "cell_type": "code",
   "execution_count": null,
   "id": "93eaebd2",
   "metadata": {},
   "outputs": [],
   "source": [
    "#df_odd_food_beer.to_csv('ALL_odd_food_beer_products', index=False, decimal='.',sep=',')"
   ]
  },
  {
   "cell_type": "code",
   "execution_count": null,
   "id": "ae91d10c",
   "metadata": {},
   "outputs": [],
   "source": []
  },
  {
   "cell_type": "markdown",
   "id": "d9b9fa87",
   "metadata": {},
   "source": [
    "## REPRESENTATIONS"
   ]
  },
  {
   "cell_type": "code",
   "execution_count": null,
   "id": "c3e2f008",
   "metadata": {},
   "outputs": [],
   "source": [
    "df_main_qty_sum = round(df_food_beer.Qty.sum(),2)\n",
    "df_main_qty_sum"
   ]
  },
  {
   "cell_type": "code",
   "execution_count": null,
   "id": "692a1373",
   "metadata": {},
   "outputs": [],
   "source": [
    "df_beer_qty_sum = round(df_beer.Qty.sum(),2)\n",
    "df_beer_qty_sum\n",
    "\n",
    "# BEER REPRESENTS 41,06% OF SALES\n",
    "beer_rep = round((df_beer_qty_sum/df_main_qty_sum)*100,2)\n",
    "beer_rep"
   ]
  },
  {
   "cell_type": "code",
   "execution_count": null,
   "id": "448fe99e",
   "metadata": {},
   "outputs": [],
   "source": [
    "df_cow_qty_sum = round(df_cow_meat.Qty.sum(),2)\n",
    "df_cow_qty_sum\n",
    "\n",
    "# COW MEAT REPRESENTS 3,89% OF SALES\n",
    "cow_rep = round((df_cow_qty_sum/df_main_qty_sum)*100,2)\n",
    "cow_rep"
   ]
  },
  {
   "cell_type": "markdown",
   "id": "207fe636",
   "metadata": {},
   "source": [
    "## TOTAL REVENUE - ALL TIME 19x20x21"
   ]
  },
  {
   "cell_type": "code",
   "execution_count": null,
   "id": "489b8f01",
   "metadata": {},
   "outputs": [],
   "source": [
    "#df_main_rev = round(df_food_beer['Unit Price'].sum(),2)\n",
    "#df_main_rev"
   ]
  },
  {
   "cell_type": "code",
   "execution_count": null,
   "id": "e0a96de5",
   "metadata": {},
   "outputs": [],
   "source": [
    "df_main_rev = round(df_food_beer['Total Price'].sum(),2)\n",
    "df_main_rev"
   ]
  },
  {
   "cell_type": "code",
   "execution_count": null,
   "id": "940505f4",
   "metadata": {},
   "outputs": [],
   "source": [
    "# COW MEAT REPRESENTS % IN REVENUE\n",
    "(round(df_cow_meat['Total Price'].sum(),2)/round(df_food_beer['Total Price'].sum(),2))*100"
   ]
  },
  {
   "cell_type": "code",
   "execution_count": null,
   "id": "a5bb0aad",
   "metadata": {},
   "outputs": [],
   "source": [
    "# BEER REPRESENTS % IN REVENUE\n",
    "(round(df_beer['Total Price'].sum(),2)/round(df_food_beer['Total Price'].sum(),2))*100"
   ]
  },
  {
   "cell_type": "code",
   "execution_count": null,
   "id": "72f5458b",
   "metadata": {},
   "outputs": [],
   "source": [
    "# PIG MEAT REPRESENTS % IN REVENUE\n",
    "(round(df_pig_meat['Total Price'].sum(),2)/round(df_food_beer['Total Price'].sum(),2))*100"
   ]
  },
  {
   "cell_type": "code",
   "execution_count": null,
   "id": "8b07a5ea",
   "metadata": {},
   "outputs": [],
   "source": [
    "# CHICKEN MEAT REPRESENTS % IN REVENUE\n",
    "(round(df_chicken_meat['Total Price'].sum(),2)/round(df_food_beer['Total Price'].sum(),2))*100"
   ]
  },
  {
   "cell_type": "code",
   "execution_count": null,
   "id": "2814a9b5",
   "metadata": {},
   "outputs": [],
   "source": [
    "# CANDY REPRESENTS % IN REVENUE\n",
    "(round(df_candy['Total Price'].sum(),2)/round(df_food_beer['Total Price'].sum(),2))*100"
   ]
  },
  {
   "cell_type": "code",
   "execution_count": null,
   "id": "80496e60",
   "metadata": {},
   "outputs": [],
   "source": [
    "# RICE REPRESENTS % IN REVENUE\n",
    "(round(df_rice['Total Price'].sum(),2)/round(df_food_beer['Total Price'].sum(),2))*100"
   ]
  },
  {
   "cell_type": "code",
   "execution_count": null,
   "id": "a76875de",
   "metadata": {},
   "outputs": [],
   "source": [
    "# COFFE&TEA REPRESENTS % IN REVENUE\n",
    "(round(df_coffe_tea['Total Price'].sum(),2)/round(df_food_beer['Total Price'].sum(),2))*100"
   ]
  },
  {
   "cell_type": "code",
   "execution_count": null,
   "id": "2f1df023",
   "metadata": {},
   "outputs": [],
   "source": [
    "# BEANS REPRESENTS % IN REVENUE\n",
    "(round(df_bean['Total Price'].sum(),2)/round(df_food_beer['Total Price'].sum(),2))*100"
   ]
  },
  {
   "cell_type": "code",
   "execution_count": null,
   "id": "af92faa4",
   "metadata": {},
   "outputs": [],
   "source": [
    "# FRUIT REPRESENTS % IN REVENUE\n",
    "(round(df_fruit['Total Price'].sum(),2)/round(df_food_beer['Total Price'].sum(),2))*100"
   ]
  },
  {
   "cell_type": "code",
   "execution_count": null,
   "id": "3fe52e59",
   "metadata": {},
   "outputs": [],
   "source": [
    "# SUGAR REPRESENTS % IN REVENUE\n",
    "(round(df_sugar['Total Price'].sum(),2)/round(df_food_beer['Total Price'].sum(),2))*100"
   ]
  },
  {
   "cell_type": "code",
   "execution_count": null,
   "id": "2963bd88",
   "metadata": {},
   "outputs": [],
   "source": [
    "# FISH MEAT REPRESENTS % IN REVENUE\n",
    "(round(df_fish_meat['Total Price'].sum(),2)/round(df_food_beer['Total Price'].sum(),2))*100"
   ]
  },
  {
   "cell_type": "code",
   "execution_count": null,
   "id": "95441b3c",
   "metadata": {},
   "outputs": [],
   "source": [
    "# NATURAL REPRESENTS % IN REVENUE\n",
    "(round(df_natural['Total Price'].sum(),2)/round(df_food_beer['Total Price'].sum(),2))*100"
   ]
  },
  {
   "cell_type": "markdown",
   "id": "0b4a3049",
   "metadata": {},
   "source": [
    "## Creating DF Filter to Revenue and Sales calculations"
   ]
  },
  {
   "cell_type": "code",
   "execution_count": null,
   "id": "7852bd4c",
   "metadata": {},
   "outputs": [],
   "source": [
    "df_filter = df_food_beer[['Product', 'Year', 'Month','Date', 'Qty', 'Total Price']]"
   ]
  },
  {
   "cell_type": "markdown",
   "id": "b7f9784c",
   "metadata": {},
   "source": [
    "## DF PRE PANDEMIC"
   ]
  },
  {
   "cell_type": "code",
   "execution_count": null,
   "id": "d50d080e",
   "metadata": {},
   "outputs": [],
   "source": [
    "pre_df_filter = df_filter[(df_filter['Date'] >= '2019-01-01') & (df_filter['Date'] <= '2020-03-15')]"
   ]
  },
  {
   "cell_type": "markdown",
   "id": "f6cb6b4a",
   "metadata": {},
   "source": [
    "- REVENUE PRE"
   ]
  },
  {
   "cell_type": "code",
   "execution_count": null,
   "id": "3f21b981",
   "metadata": {},
   "outputs": [],
   "source": [
    "round(pre_df_filter['Total Price'].sum(),2)"
   ]
  },
  {
   "cell_type": "code",
   "execution_count": null,
   "id": "8c5f05b6",
   "metadata": {},
   "outputs": [],
   "source": [
    "# TOTAL PRODUCT REVENUE PRE PANDEMIC\n",
    "\n",
    "p = round(pre_df_filter.groupby('Product')['Total Price'].sum(),2)"
   ]
  },
  {
   "cell_type": "code",
   "execution_count": null,
   "id": "81b8f544",
   "metadata": {},
   "outputs": [],
   "source": [
    "# %%% REVENUE\n",
    "\n",
    "round(pre_df_filter.groupby('Product')['Total Price'].sum(),2)/round(pre_df_filter['Total Price'].sum(),2)*100"
   ]
  },
  {
   "cell_type": "markdown",
   "id": "151b3546",
   "metadata": {},
   "source": [
    "- AMOUNT OF SALES PRE"
   ]
  },
  {
   "cell_type": "code",
   "execution_count": null,
   "id": "b63d9821",
   "metadata": {},
   "outputs": [],
   "source": [
    "# TOTAL PRODUCT SALES (QTY) PRE PANDEMIC\n",
    "\n",
    "pre_qty = round(pre_df_filter.groupby('Product')['Qty'].sum(),2)"
   ]
  },
  {
   "cell_type": "code",
   "execution_count": null,
   "id": "41443c6d",
   "metadata": {},
   "outputs": [],
   "source": [
    "# %%% SALES\n",
    "\n",
    "round(pre_df_filter.groupby('Product')['Qty'].sum(),2)/round(pre_df_filter['Qty'].sum(),2)*100"
   ]
  },
  {
   "cell_type": "markdown",
   "id": "82ba5af2",
   "metadata": {},
   "source": [
    "## DF DURING PANDEMIC"
   ]
  },
  {
   "cell_type": "code",
   "execution_count": null,
   "id": "f6d6bbd8",
   "metadata": {},
   "outputs": [],
   "source": [
    "dur_df_filter = df_filter[(df_filter['Date'] > '2020-03-15') & (df_filter['Date'] <= '2021-01-17')]"
   ]
  },
  {
   "cell_type": "markdown",
   "id": "dd68c042",
   "metadata": {},
   "source": [
    "- REVENUE DURING"
   ]
  },
  {
   "cell_type": "code",
   "execution_count": null,
   "id": "f9aebf44",
   "metadata": {},
   "outputs": [],
   "source": [
    "round(dur_df_filter['Total Price'].sum(),2)"
   ]
  },
  {
   "cell_type": "code",
   "execution_count": null,
   "id": "5087dc01",
   "metadata": {},
   "outputs": [],
   "source": [
    "# TOTAL PRODUCT REVENUE DURING PANDEMIC\n",
    "\n",
    "d = round(dur_df_filter.groupby('Product')['Total Price'].sum(),2)"
   ]
  },
  {
   "cell_type": "code",
   "execution_count": null,
   "id": "6c52c1ed",
   "metadata": {},
   "outputs": [],
   "source": [
    "# %%% REVENUE\n",
    "round(dur_df_filter.groupby('Product')['Total Price'].sum(),2)/round(dur_df_filter['Total Price'].sum(),2)*100"
   ]
  },
  {
   "cell_type": "markdown",
   "id": "235f4f8e",
   "metadata": {},
   "source": [
    "- AMOUNT OF SALES DURING"
   ]
  },
  {
   "cell_type": "code",
   "execution_count": null,
   "id": "427be5fd",
   "metadata": {},
   "outputs": [],
   "source": [
    "# TOTAL PRODUCT SALES DURING PANDEMIC\n",
    "\n",
    "dur_qty = round(dur_df_filter.groupby('Product')['Qty'].sum(),2)"
   ]
  },
  {
   "cell_type": "code",
   "execution_count": null,
   "id": "74a7ec09",
   "metadata": {},
   "outputs": [],
   "source": [
    "round(dur_df_filter.groupby('Product')['Qty'].sum(),2)/round(dur_df_filter['Qty'].sum(),2)*100"
   ]
  },
  {
   "cell_type": "markdown",
   "id": "92877261",
   "metadata": {},
   "source": [
    "## DF AFTER VACCINE"
   ]
  },
  {
   "cell_type": "code",
   "execution_count": null,
   "id": "cdc36244",
   "metadata": {},
   "outputs": [],
   "source": [
    "after_df_filter = df_filter[(df_filter['Date'] > '2021-01-17')]"
   ]
  },
  {
   "cell_type": "markdown",
   "id": "36da94d2",
   "metadata": {},
   "source": [
    "- REVENUE AFTER"
   ]
  },
  {
   "cell_type": "code",
   "execution_count": null,
   "id": "1cc1c5b3",
   "metadata": {},
   "outputs": [],
   "source": [
    "round(after_df_filter['Total Price'].sum(),2)"
   ]
  },
  {
   "cell_type": "code",
   "execution_count": null,
   "id": "b344888f",
   "metadata": {},
   "outputs": [],
   "source": [
    "# TOTAL PRODUCT REVENUE AFTER VACCINE\n",
    "\n",
    "a = round(after_df_filter.groupby('Product')['Total Price'].sum(),2)"
   ]
  },
  {
   "cell_type": "code",
   "execution_count": null,
   "id": "488cc8b0",
   "metadata": {},
   "outputs": [],
   "source": [
    "# %%% REVENUE\n",
    "\n",
    "round(after_df_filter.groupby('Product')['Total Price'].sum(),2)/round(after_df_filter['Total Price'].sum(),2)*100"
   ]
  },
  {
   "cell_type": "markdown",
   "id": "8870ad05",
   "metadata": {},
   "source": [
    " - AMOUNT OF SALES AFTER"
   ]
  },
  {
   "cell_type": "code",
   "execution_count": null,
   "id": "1c91362b",
   "metadata": {},
   "outputs": [],
   "source": [
    "round(after_df_filter['Qty'].sum(),2)"
   ]
  },
  {
   "cell_type": "code",
   "execution_count": null,
   "id": "6dcf08c8",
   "metadata": {},
   "outputs": [],
   "source": [
    "# TOTAL PRODUCT SALES AFTER VACCINE\n",
    "\n",
    "af_qty = round(after_df_filter.groupby('Product')['Qty'].sum(),2)"
   ]
  },
  {
   "cell_type": "code",
   "execution_count": null,
   "id": "0935b78b",
   "metadata": {},
   "outputs": [],
   "source": [
    "# %%%\n",
    "\n",
    "round(after_df_filter.groupby('Product')['Qty'].sum(),2)/round(after_df_filter['Qty'].sum(),2)*100"
   ]
  },
  {
   "cell_type": "markdown",
   "id": "17ed9773",
   "metadata": {},
   "source": [
    "## Calculations of Increase or Decrease Margins (Revenue) in %"
   ]
  },
  {
   "cell_type": "markdown",
   "id": "ff647170",
   "metadata": {},
   "source": [
    "- From 2019 to march 2020"
   ]
  },
  {
   "cell_type": "code",
   "execution_count": null,
   "id": "ee3addf7",
   "metadata": {},
   "outputs": [],
   "source": [
    "from19_20 = ((d/p)-1)*100\n",
    "from19_20"
   ]
  },
  {
   "cell_type": "markdown",
   "id": "7a05c259",
   "metadata": {},
   "source": [
    "- From march 2020 to 2021"
   ]
  },
  {
   "cell_type": "code",
   "execution_count": null,
   "id": "8cf19e15",
   "metadata": {},
   "outputs": [],
   "source": [
    "from20_21 = ((a/d)-1)*100\n",
    "from20_21"
   ]
  },
  {
   "cell_type": "code",
   "execution_count": null,
   "id": "9097fc42",
   "metadata": {},
   "outputs": [],
   "source": [
    "# TOTAL INCREASE REVENUE - ALL TIME\n",
    "\n",
    "most_value_products = from19_20 + from20_21\n",
    "most_value_products"
   ]
  },
  {
   "cell_type": "markdown",
   "id": "372ae011",
   "metadata": {},
   "source": [
    "## Calculations of Increase or Decrease Margins (Qty/ Sales) in %"
   ]
  },
  {
   "cell_type": "markdown",
   "id": "927b6fce",
   "metadata": {},
   "source": [
    "- From 2019 to march 2020 SALES"
   ]
  },
  {
   "cell_type": "code",
   "execution_count": null,
   "id": "12678d95",
   "metadata": {},
   "outputs": [],
   "source": [
    "from19_20_qty = ((dur_qty/pre_qty)-1)*100\n",
    "from19_20_qty"
   ]
  },
  {
   "cell_type": "markdown",
   "id": "a1f4fb94",
   "metadata": {},
   "source": [
    "- From 2020 to march 2021 SALES"
   ]
  },
  {
   "cell_type": "code",
   "execution_count": null,
   "id": "3d331fcd",
   "metadata": {},
   "outputs": [],
   "source": [
    "from20_21_qty = ((af_qty/dur_qty)-1)*100\n",
    "from20_21_qty"
   ]
  },
  {
   "cell_type": "code",
   "execution_count": null,
   "id": "405f45a1",
   "metadata": {},
   "outputs": [],
   "source": []
  },
  {
   "cell_type": "markdown",
   "id": "2ed42d2d",
   "metadata": {},
   "source": [
    "- Representação REVENUE / SALES (%)\n",
    "- \n",
    "- Representação Antes da pandemia:\n",
    "- \n",
    "- BEAN             4.8 / 4.48\n",
    "- BEER            20.3 / 47.5\n",
    "- CANDY            8.9 / 9.5\n",
    "- CHICKEN_MEAT     8.6 / 4.2\n",
    "- COFFE&TEA        6.4 / 4.4\n",
    "- COW_MEAT        18.6 / 6.0\n",
    "- FISH_MEAT        2.3 / 1.8\n",
    "- FRUIT            5.2 / 6.9\n",
    "- NATURAL          0.1 / 0.3\n",
    "- PIG_MEAT        14.3 / 4.6\n",
    "- RICE             6.9 / 2.9\n",
    "- SUGAR            3.4 / 7.4\n",
    "- \n",
    "- \n",
    "- Representação DURANTE a pandemia:\n",
    "- \n",
    "- BEAN             5.0 / 4.3\n",
    "- BEER            16.9 / 43.9\n",
    "- CANDY            9.5 / 10.4\n",
    "- CHICKEN_MEAT     8.9 / 5.02\n",
    "- COFFE&TEA        6.1 / 4.7\n",
    "- COW_MEAT        19.3 / 6.4\n",
    "- FISH_MEAT        2.9 / 2.1\n",
    "- FRUIT            5.2 / 7.2\n",
    "- NATURAL          0.2 / 0.3\n",
    "- PIG_MEAT        15.3 / 5.3\n",
    "- RICE             7.4 / 2.7\n",
    "- SUGAR            3.2 / 7.6\n",
    "- \n",
    "- Representação PÓS vacina:\n",
    "- BEAN             4.9 / 5.1\n",
    "- BEER            10.8 / 33.0\n",
    "- CANDY           10.0 / 13.0\n",
    "- CHICKEN_MEAT     9.9 / 5.5\n",
    "- COFFE&TEA        7.1 / 5.3\n",
    "- COW_MEAT        18.4 / 6.3\n",
    "- FISH_MEAT        3.1 / 2.3\n",
    "- FRUIT            5.6 / 9.7\n",
    "- NATURAL          0.2 / 0.4\n",
    "- PIG_MEAT        16.9 / 6.9\n",
    "- RICE             8.9 / 3.5\n",
    "- SUGAR            4.2 / 9.4\n"
   ]
  }
 ],
 "metadata": {
  "kernelspec": {
   "display_name": "Python 3",
   "language": "python",
   "name": "python3"
  },
  "language_info": {
   "codemirror_mode": {
    "name": "ipython",
    "version": 3
   },
   "file_extension": ".py",
   "mimetype": "text/x-python",
   "name": "python",
   "nbconvert_exporter": "python",
   "pygments_lexer": "ipython3",
   "version": "3.8.8"
  }
 },
 "nbformat": 4,
 "nbformat_minor": 5
}
